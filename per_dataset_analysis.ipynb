{
 "cells": [
  {
   "cell_type": "code",
   "execution_count": 2,
   "metadata": {},
   "outputs": [],
   "source": [
    "import pandas as pd\n",
    "import os"
   ]
  },
  {
   "cell_type": "code",
   "execution_count": 4,
   "metadata": {},
   "outputs": [],
   "source": [
    "results_euc = pd.read_csv(\"./results/roc_auc_euclidean.csv\", index_col=0)\n",
    "\n",
    "results_cos = pd.read_csv(\"./results/roc_auc_cosine.csv\", index_col=0)\n",
    "\n",
    "results_man = pd.read_csv(\"./results/roc_auc_manhattan.csv\", index_col=0)"
   ]
  },
  {
   "cell_type": "code",
   "execution_count": 6,
   "metadata": {},
   "outputs": [],
   "source": [
    "dataset_names = [x[:-3] for x in os.listdir(\"./data/downloaders\") if x[-3:] == \".py\"]"
   ]
  },
  {
   "cell_type": "code",
   "execution_count": 7,
   "metadata": {},
   "outputs": [],
   "source": [
    "def get_per_dataset_results(results_df):    \n",
    "    return [results_df[[col for col in results_df.columns if dataset_name in col]].T.mean() for dataset_name in dataset_names]"
   ]
  },
  {
   "cell_type": "markdown",
   "metadata": {},
   "source": [
    "# Euclidean distance results"
   ]
  },
  {
   "cell_type": "code",
   "execution_count": 8,
   "metadata": {},
   "outputs": [
    {
     "data": {
      "text/plain": [
       "ce_roberta_large_stsb.csv                             0.545059\n",
       "average_word_embeddings_levy_dependency.csv           0.554183\n",
       "average_word_embeddings_komninos.csv                  0.555405\n",
       "ce_distilroberta_base_stsb.csv                        0.557830\n",
       "average_word_embeddings_glove_6b_300d.csv             0.559874\n",
       "average_word_embeddings_glove_840b_300d.csv           0.560071\n",
       "ce_roberta_base_stsb.csv                              0.562534\n",
       "distilroberta_base_msmarco_v2.csv                     0.591283\n",
       "distilbert_base_nli_stsb_quora_ranking.csv            0.609030\n",
       "distilbert_multilingual_nli_stsb_quora_ranking.csv    0.619154\n",
       "bert_base_wikipedia_sections_mean_tokens.csv          0.628136\n",
       "xlm_r_distilroberta_base_paraphrase_v1.csv            0.635234\n",
       "cross_en_de_roberta_sentence_transformer.csv          0.635549\n",
       "distiluse_base_multilingual_cased_v2.csv              0.643185\n",
       "distilbert_base_nli_stsb_mean_tokens.csv              0.646342\n",
       "labse.csv                                             0.647500\n",
       "bert_base_nli_stsb_mean_tokens.csv                    0.655921\n",
       "roberta_base_nli_stsb_mean_tokens.csv                 0.659427\n",
       "xlm_r_100langs_bert_base_nli_stsb_mean_tokens.csv     0.660461\n",
       "xlm_r_bert_base_nli_stsb_mean_tokens.csv              0.660820\n",
       "bert_base_nli_cls_tokens.csv                          0.665063\n",
       "bert_base_nli_max_tokens.csv                          0.665063\n",
       "bert_base_nli_cls_token.csv                           0.670922\n",
       "bert_base_nli_mean_tokens.csv                         0.670959\n",
       "xlm_r_100langs_bert_base_nli_mean_tokens.csv          0.671354\n",
       "bert_large_nli_max_tokens.csv                         0.671668\n",
       "roberta_large_nli_stsb_mean_tokens.csv                0.673752\n",
       "bert_large_nli_cls_token.csv                          0.677378\n",
       "bert_large_nli_mean_tokens.csv                        0.678934\n",
       "dtype: float64"
      ]
     },
     "execution_count": 8,
     "metadata": {},
     "output_type": "execute_result"
    }
   ],
   "source": [
    "pd.DataFrame(get_per_dataset_results(results_euc), index=dataset_names).mean().sort_values()"
   ]
  },
  {
   "cell_type": "code",
   "execution_count": 13,
   "metadata": {},
   "outputs": [
    {
     "data": {
      "text/plain": [
       "average_word_embeddings_levy_dependency.csv           0.502538\n",
       "average_word_embeddings_komninos.csv                  0.525193\n",
       "average_word_embeddings_glove_840b_300d.csv           0.544397\n",
       "average_word_embeddings_glove_6b_300d.csv             0.550590\n",
       "ce_distilroberta_base_stsb.csv                        0.554132\n",
       "ce_roberta_large_stsb.csv                             0.566805\n",
       "bert_base_wikipedia_sections_mean_tokens.csv          0.581271\n",
       "ce_roberta_base_stsb.csv                              0.584701\n",
       "distilbert_multilingual_nli_stsb_quora_ranking.csv    0.591227\n",
       "distilbert_base_nli_stsb_quora_ranking.csv            0.602957\n",
       "distilroberta_base_msmarco_v2.csv                     0.605335\n",
       "cross_en_de_roberta_sentence_transformer.csv          0.629310\n",
       "distiluse_base_multilingual_cased_v2.csv              0.631706\n",
       "xlm_r_distilroberta_base_paraphrase_v1.csv            0.635696\n",
       "bert_base_nli_max_tokens.csv                          0.645735\n",
       "bert_base_nli_cls_tokens.csv                          0.645735\n",
       "labse.csv                                             0.647099\n",
       "roberta_base_nli_stsb_mean_tokens.csv                 0.654619\n",
       "distilbert_base_nli_stsb_mean_tokens.csv              0.656379\n",
       "roberta_large_nli_stsb_mean_tokens.csv                0.664662\n",
       "bert_base_nli_stsb_mean_tokens.csv                    0.680376\n",
       "bert_base_nli_cls_token.csv                           0.683368\n",
       "xlm_r_bert_base_nli_stsb_mean_tokens.csv              0.686025\n",
       "xlm_r_100langs_bert_base_nli_stsb_mean_tokens.csv     0.686025\n",
       "bert_large_nli_max_tokens.csv                         0.692134\n",
       "bert_base_nli_mean_tokens.csv                         0.698924\n",
       "xlm_r_100langs_bert_base_nli_mean_tokens.csv          0.707194\n",
       "bert_large_nli_cls_token.csv                          0.712620\n",
       "bert_large_nli_mean_tokens.csv                        0.713663\n",
       "Name: chen_2014_tapfish.csv, dtype: float64"
      ]
     },
     "execution_count": 13,
     "metadata": {},
     "output_type": "execute_result"
    }
   ],
   "source": [
    "results_cos[\"chen_2014_tapfish.csv\"].sort_values()"
   ]
  },
  {
   "cell_type": "markdown",
   "metadata": {},
   "source": [
    "# Cosine distance results"
   ]
  },
  {
   "cell_type": "code",
   "execution_count": 12,
   "metadata": {},
   "outputs": [
    {
     "data": {
      "text/plain": [
       "chen_2014          0.669499\n",
       "ciurumelea_2017    0.684633\n",
       "di_sorbo_2016      0.665474\n",
       "guzman_2015        0.764178\n",
       "maalej_2016        0.788452\n",
       "scalabrino_2017    0.659201\n",
       "tizard_2019        0.645560\n",
       "williams_2017      0.590346\n",
       "Name: bert_large_nli_cls_token.csv, dtype: float64"
      ]
     },
     "execution_count": 12,
     "metadata": {},
     "output_type": "execute_result"
    }
   ],
   "source": [
    "pd.DataFrame(get_per_dataset_results(results_cos), index=dataset_names)[\"bert_large_nli_cls_token.csv\"]"
   ]
  },
  {
   "cell_type": "markdown",
   "metadata": {},
   "source": [
    "# Manhattan distance results"
   ]
  },
  {
   "cell_type": "code",
   "execution_count": 11,
   "metadata": {},
   "outputs": [
    {
     "data": {
      "text/plain": [
       "ce_roberta_large_stsb.csv                             0.545226\n",
       "average_word_embeddings_levy_dependency.csv           0.553633\n",
       "average_word_embeddings_komninos.csv                  0.555717\n",
       "average_word_embeddings_glove_840b_300d.csv           0.557722\n",
       "ce_distilroberta_base_stsb.csv                        0.558317\n",
       "average_word_embeddings_glove_6b_300d.csv             0.559454\n",
       "ce_roberta_base_stsb.csv                              0.560434\n",
       "distilroberta_base_msmarco_v2.csv                     0.592026\n",
       "distilbert_base_nli_stsb_quora_ranking.csv            0.608962\n",
       "distilbert_multilingual_nli_stsb_quora_ranking.csv    0.619334\n",
       "bert_base_wikipedia_sections_mean_tokens.csv          0.627429\n",
       "xlm_r_distilroberta_base_paraphrase_v1.csv            0.637101\n",
       "cross_en_de_roberta_sentence_transformer.csv          0.638171\n",
       "distiluse_base_multilingual_cased_v2.csv              0.641100\n",
       "labse.csv                                             0.646633\n",
       "distilbert_base_nli_stsb_mean_tokens.csv              0.647187\n",
       "bert_base_nli_stsb_mean_tokens.csv                    0.656009\n",
       "roberta_base_nli_stsb_mean_tokens.csv                 0.658462\n",
       "xlm_r_100langs_bert_base_nli_stsb_mean_tokens.csv     0.659736\n",
       "xlm_r_bert_base_nli_stsb_mean_tokens.csv              0.660511\n",
       "bert_base_nli_max_tokens.csv                          0.665945\n",
       "bert_base_nli_cls_tokens.csv                          0.665945\n",
       "bert_base_nli_cls_token.csv                           0.670105\n",
       "bert_base_nli_mean_tokens.csv                         0.671420\n",
       "bert_large_nli_max_tokens.csv                         0.671543\n",
       "xlm_r_100langs_bert_base_nli_mean_tokens.csv          0.671657\n",
       "roberta_large_nli_stsb_mean_tokens.csv                0.674701\n",
       "bert_large_nli_cls_token.csv                          0.677694\n",
       "bert_large_nli_mean_tokens.csv                        0.679075\n",
       "dtype: float64"
      ]
     },
     "execution_count": 11,
     "metadata": {},
     "output_type": "execute_result"
    }
   ],
   "source": [
    "pd.DataFrame(get_per_dataset_results(results_man), index=dataset_names).mean().sort_values()"
   ]
  },
  {
   "cell_type": "code",
   "execution_count": null,
   "metadata": {},
   "outputs": [],
   "source": []
  }
 ],
 "metadata": {
  "kernelspec": {
   "display_name": "Python 3",
   "language": "python",
   "name": "python3"
  },
  "language_info": {
   "codemirror_mode": {
    "name": "ipython",
    "version": 3
   },
   "file_extension": ".py",
   "mimetype": "text/x-python",
   "name": "python",
   "nbconvert_exporter": "python",
   "pygments_lexer": "ipython3",
   "version": "3.6.10"
  }
 },
 "nbformat": 4,
 "nbformat_minor": 4
}
